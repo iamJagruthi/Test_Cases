{
 "cells": [
  {
   "cell_type": "code",
   "execution_count": 1,
   "id": "490ea351",
   "metadata": {},
   "outputs": [],
   "source": [
    "import pandas as pd"
   ]
  },
  {
   "cell_type": "code",
   "execution_count": 4,
   "id": "51b6eadc",
   "metadata": {},
   "outputs": [
    {
     "name": "stdout",
     "output_type": "stream",
     "text": [
      "    Rollno Result\n",
      "0        1   fail\n",
      "1        2   fail\n",
      "2        3   pass\n",
      "3        4   pass\n",
      "4        5   fail\n",
      "5        6   pass\n",
      "6        7   fail\n",
      "7        8   pass\n",
      "8        9   pass\n",
      "9       10   pass\n",
      "10      11   pass\n",
      "11      12   fail\n",
      "12      13   fail\n",
      "13      14   fail\n",
      "14      15   pass\n",
      "15      16   pass\n",
      "16      17   pass\n",
      "17      18   pass\n",
      "18      19   pass\n",
      "19      20   fail\n"
     ]
    }
   ],
   "source": [
    "result = \"E:/jagruthi_DA/TestCases/result.txt\"\n",
    "df1 = pd.read_csv(result, sep=\"\\t\", header =None, names =[\"Rollno\",\"Result\"])\n",
    "print(df1)"
   ]
  },
  {
   "cell_type": "code",
   "execution_count": 5,
   "id": "01958e1e",
   "metadata": {},
   "outputs": [
    {
     "name": "stdout",
     "output_type": "stream",
     "text": [
      "   Student_name  Rollno\n",
      "0        vineet       1\n",
      "1        hisham       2\n",
      "2           raj       3\n",
      "3         ajeet       4\n",
      "4        sujit        5\n",
      "5        ramesh       6\n",
      "6         priya       7\n",
      "7      priyanka       8\n",
      "8        suresh       9\n",
      "9        ritesh      10\n",
      "10       hitesh      11\n",
      "11        jatin      12\n",
      "12      chitesh      13\n",
      "13        suman      14\n",
      "14        raman      15\n",
      "15         aman      16\n",
      "16         ravi      17\n",
      "17       shravi      18\n",
      "18       chavvi      19\n",
      "19     himanshu      20\n"
     ]
    }
   ],
   "source": [
    "Student = \"E:/jagruthi_DA/TestCases/Student.txt\"\n",
    "\n",
    "df2 = pd.read_csv(Student, sep=r\"\\t\",header=None, names = [\"Student_name\",\"Rollno\"],engine= 'python')\n",
    "\n",
    "print(df2)"
   ]
  },
  {
   "cell_type": "code",
   "execution_count": 6,
   "id": "d7856251",
   "metadata": {},
   "outputs": [
    {
     "name": "stdout",
     "output_type": "stream",
     "text": [
      "    Rollno Result Student_name\n",
      "0        1   fail       vineet\n",
      "1        2   fail       hisham\n",
      "2        3   pass          raj\n",
      "3        4   pass        ajeet\n",
      "4        5   fail       sujit \n",
      "5        6   pass       ramesh\n",
      "6        7   fail        priya\n",
      "7        8   pass     priyanka\n",
      "8        9   pass       suresh\n",
      "9       10   pass       ritesh\n",
      "10      11   pass       hitesh\n",
      "11      12   fail        jatin\n",
      "12      13   fail      chitesh\n",
      "13      14   fail        suman\n",
      "14      15   pass        raman\n",
      "15      16   pass         aman\n",
      "16      17   pass         ravi\n",
      "17      18   pass       shravi\n",
      "18      19   pass       chavvi\n",
      "19      20   fail     himanshu\n"
     ]
    }
   ],
   "source": [
    "merged_df = pd.merge(df1, df2, on=\"Rollno\")\n",
    "print(merged_df)"
   ]
  },
  {
   "cell_type": "code",
   "execution_count": 7,
   "id": "89152036",
   "metadata": {},
   "outputs": [
    {
     "name": "stdout",
     "output_type": "stream",
     "text": [
      "Students who have successfully cleared the exam: ['raj', 'ajeet', 'ramesh', 'priyanka', 'suresh', 'ritesh', 'hitesh', 'raman', 'aman', 'ravi', 'shravi', 'chavvi']\n"
     ]
    }
   ],
   "source": [
    "#problem1: students names who passed the results\n",
    "passed_students = merged_df[merged_df[\"Result\"] == 'pass']['Student_name']\n",
    "print(\"Students who have successfully cleared the exam:\", list(passed_students))"
   ]
  },
  {
   "cell_type": "code",
   "execution_count": 8,
   "id": "ed54ec5c",
   "metadata": {},
   "outputs": [
    {
     "name": "stdout",
     "output_type": "stream",
     "text": [
      "Number of students who passed: 12\n",
      "Number of students who failed: 8\n"
     ]
    }
   ],
   "source": [
    "#Problem 2: Count Number of Students (Pass/Fail)\n",
    "pass_count = merged_df[merged_df['Result'] == 'pass'].shape[0]\n",
    "fail_count = merged_df[merged_df['Result'] == 'fail'].shape[0]\n",
    "print(\"Number of students who passed:\", pass_count)\n",
    "print(\"Number of students who failed:\", fail_count)"
   ]
  },
  {
   "cell_type": "code",
   "execution_count": 9,
   "id": "bf7a7911",
   "metadata": {},
   "outputs": [
    {
     "name": "stdout",
     "output_type": "stream",
     "text": [
      "Student names arranged alphabetically: ['ajeet', 'aman', 'chavvi', 'chitesh', 'himanshu', 'hisham', 'hitesh', 'jatin', 'priya', 'priyanka', 'raj', 'raman', 'ramesh', 'ravi', 'ritesh', 'shravi', 'sujit ', 'suman', 'suresh', 'vineet']\n"
     ]
    }
   ],
   "source": [
    "# Problem 3: Arrange Student Names Alphabetically\n",
    "sorted_names = df2.sort_values(by='Student_name')['Student_name']\n",
    "print(\"Student names arranged alphabetically:\", list(sorted_names))"
   ]
  }
 ],
 "metadata": {
  "kernelspec": {
   "display_name": "Python 3 (ipykernel)",
   "language": "python",
   "name": "python3"
  },
  "language_info": {
   "codemirror_mode": {
    "name": "ipython",
    "version": 3
   },
   "file_extension": ".py",
   "mimetype": "text/x-python",
   "name": "python",
   "nbconvert_exporter": "python",
   "pygments_lexer": "ipython3",
   "version": "3.11.4"
  }
 },
 "nbformat": 4,
 "nbformat_minor": 5
}
